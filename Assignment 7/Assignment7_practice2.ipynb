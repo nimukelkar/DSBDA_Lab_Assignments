{
 "cells": [
  {
   "cell_type": "code",
   "execution_count": 2,
   "id": "d43c90c2",
   "metadata": {},
   "outputs": [],
   "source": [
    "import pandas as pd"
   ]
  },
  {
   "cell_type": "code",
   "execution_count": 3,
   "id": "4742141c",
   "metadata": {},
   "outputs": [],
   "source": [
    "with open('doc1.txt','r')as fp1:\n",
    "    s1=fp1.read()\n",
    "with open('doc2.txt','r')as fp2:\n",
    "    s2=fp2.read()"
   ]
  },
  {
   "cell_type": "code",
   "execution_count": 4,
   "id": "4dbb3c54",
   "metadata": {},
   "outputs": [
    {
     "name": "stdout",
     "output_type": "stream",
     "text": [
      "['I', 'meet', 'Jack', 'and', 'I', 'meet', 'Ann']\n",
      "['I', 'meet', 'Jack', 'and', 'I', 'meet', 'Jill', '.']\n"
     ]
    }
   ],
   "source": [
    "#Tokenization.\n",
    "import nltk\n",
    "from nltk import *\n",
    "from nltk.corpus import *\n",
    "from nltk.stem import *\n",
    "\n",
    "t1=word_tokenize(s1)\n",
    "t2=word_tokenize(s2)\n",
    "print(t1)\n",
    "print(t2)\n"
   ]
  },
  {
   "cell_type": "code",
   "execution_count": 5,
   "id": "00bbeae9",
   "metadata": {},
   "outputs": [
    {
     "name": "stdout",
     "output_type": "stream",
     "text": [
      "['I', 'meet', 'Jack', 'I', 'meet', 'Ann']\n",
      "['I', 'meet', 'Jack', 'I', 'meet', 'Jill', '.']\n"
     ]
    },
    {
     "name": "stderr",
     "output_type": "stream",
     "text": [
      "[nltk_data] Downloading package stopwords to\n",
      "[nltk_data]     C:\\Users\\ADMIN\\AppData\\Roaming\\nltk_data...\n",
      "[nltk_data]   Package stopwords is already up-to-date!\n"
     ]
    }
   ],
   "source": [
    "#Stop Words Removal.\n",
    "nltk.download('stopwords')\n",
    "def removal(l):\n",
    "    s=stopwords.words('english')\n",
    "    k=[]\n",
    "    for w in l:\n",
    "        if w not in s:\n",
    "            k.append(w)\n",
    "    return k\n",
    "s3=removal(t1)\n",
    "s4=removal(t2)\n",
    "print(s3)\n",
    "print(s4)\n",
    "            \n",
    "    "
   ]
  },
  {
   "cell_type": "code",
   "execution_count": 6,
   "id": "669e3328",
   "metadata": {},
   "outputs": [
    {
     "name": "stdout",
     "output_type": "stream",
     "text": [
      "['I', 'meet', 'Jack', 'I', 'meet', 'Ann']\n",
      "['I', 'meet', 'Jack', 'I', 'meet', 'Jill', '.']\n"
     ]
    }
   ],
   "source": [
    "#Lemmatization\n",
    "lemmatizer=WordNetLemmatizer()\n",
    "def lem(l):\n",
    "    m=[]\n",
    "    for w in l:\n",
    "        m.append(lemmatizer.lemmatize(w))\n",
    "    return m\n",
    "m1=lem(s3)\n",
    "m2=lem(s4)\n",
    "print(m1)\n",
    "print(m2)"
   ]
  },
  {
   "cell_type": "code",
   "execution_count": 7,
   "id": "233704cf",
   "metadata": {},
   "outputs": [
    {
     "name": "stdout",
     "output_type": "stream",
     "text": [
      "[('I', 'PRP'), ('meet', 'VBP'), ('Jack', 'NNP'), ('I', 'PRP'), ('meet', 'VBP'), ('Ann', 'JJ')]\n",
      "[('I', 'PRP'), ('meet', 'VBP'), ('Jack', 'NNP'), ('I', 'PRP'), ('meet', 'VBP'), ('Jill', 'NNP'), ('.', '.')]\n"
     ]
    }
   ],
   "source": [
    "#POS Tagging\n",
    "p1=nltk.pos_tag(m1)\n",
    "p2=nltk.pos_tag(m2)\n",
    "print(p1)\n",
    "print(p2)"
   ]
  },
  {
   "cell_type": "code",
   "execution_count": 8,
   "id": "2cef9762",
   "metadata": {},
   "outputs": [
    {
     "name": "stdout",
     "output_type": "stream",
     "text": [
      "{'I': 0.3333333333333333, 'meet': 0.3333333333333333, 'Jack': 0.16666666666666666, 'Ann': 0.16666666666666666}\n",
      "{'I': 0.2857142857142857, 'meet': 0.2857142857142857, 'Jack': 0.14285714285714285, 'Jill': 0.14285714285714285, '.': 0.14285714285714285}\n"
     ]
    }
   ],
   "source": [
    "#Tf\n",
    "def tf(l):\n",
    "    d={}\n",
    "    for i in l:\n",
    "        if i in d:\n",
    "            d[i]+=1\n",
    "        else:\n",
    "            d[i]=1\n",
    "    count=sum(d.values())\n",
    "    for i in d:\n",
    "        d[i]=d[i]/count\n",
    "    return d\n",
    "y1=tf(m1)\n",
    "y2=tf(m2)\n",
    "print(y1)\n",
    "print(y2)"
   ]
  },
  {
   "cell_type": "code",
   "execution_count": 9,
   "id": "4ea22986",
   "metadata": {},
   "outputs": [
    {
     "name": "stdout",
     "output_type": "stream",
     "text": [
      "IDF is {'I': 0.0, 'meet': 0.0, 'Jack': 0.0, 'Ann': 0.6931471805599453, 'Jill': 0.6931471805599453, '.': 0.6931471805599453}\n",
      "IDF is {'I': 0.0, 'meet': 0.0, 'Jack': 0.0, 'Ann': 0.6931471805599453, 'Jill': 0.6931471805599453, '.': 0.6931471805599453}\n"
     ]
    }
   ],
   "source": [
    "#Idf\n",
    "import math\n",
    "def idf(l):\n",
    "    corpusdict={}\n",
    "    for i in y1:\n",
    "        if i in y2:\n",
    "            corpusdict[i]=2\n",
    "        else:\n",
    "            corpusdict[i]=1\n",
    "    for i in y2:\n",
    "        if i not in y1:\n",
    "            corpusdict[i]=1\n",
    "    idf={}\n",
    "    for i in corpusdict:\n",
    "        idf[i]=math.log(2/corpusdict[i])\n",
    "    return idf\n",
    "i1=idf(m1)\n",
    "i2=idf(m2)\n",
    "print(\"IDF is\",i1)\n",
    "print(\"IDF is\",i2)"
   ]
  },
  {
   "cell_type": "code",
   "execution_count": 10,
   "id": "4ba6adba",
   "metadata": {},
   "outputs": [
    {
     "name": "stdout",
     "output_type": "stream",
     "text": [
      "{'I': 0.0, 'meet': 0.0, 'Jack': 0.0, 'Ann': 0.11552453009332421}\n",
      "{'I': 0.0, 'meet': 0.0, 'Jack': 0.0, 'Jill': 0.09902102579427789, '.': 0.09902102579427789}\n"
     ]
    }
   ],
   "source": [
    "#Tf idf\n",
    "def tfidf(d,idf):\n",
    "    dict={}\n",
    "    for i in d:\n",
    "        dict[i]=d[i]*idf[i]\n",
    "    return dict\n",
    "tfidf1=tfidf(y1,i1)\n",
    "tfidf2=tfidf(y2,i2)\n",
    "print(tfidf1)\n",
    "print(tfidf2)"
   ]
  },
  {
   "cell_type": "code",
   "execution_count": null,
   "id": "21f76f66",
   "metadata": {},
   "outputs": [],
   "source": []
  }
 ],
 "metadata": {
  "kernelspec": {
   "display_name": "Python 3 (ipykernel)",
   "language": "python",
   "name": "python3"
  },
  "language_info": {
   "codemirror_mode": {
    "name": "ipython",
    "version": 3
   },
   "file_extension": ".py",
   "mimetype": "text/x-python",
   "name": "python",
   "nbconvert_exporter": "python",
   "pygments_lexer": "ipython3",
   "version": "3.9.7"
  }
 },
 "nbformat": 4,
 "nbformat_minor": 5
}
